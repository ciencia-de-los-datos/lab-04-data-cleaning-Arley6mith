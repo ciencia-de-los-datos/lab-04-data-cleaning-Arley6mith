{
 "cells": [
  {
   "cell_type": "code",
   "execution_count": 1,
   "id": "5b9d966b-79d2-4e2a-9fd2-2fceff7b8578",
   "metadata": {},
   "outputs": [],
   "source": [
    "import pandas as pd\n",
    "import unicodedata"
   ]
  },
  {
   "cell_type": "code",
   "execution_count": 2,
   "id": "a979d840-ba18-4f0d-98b7-a16a829c9435",
   "metadata": {},
   "outputs": [],
   "source": [
    "def clean_text(df,list_columns):\n",
    "    for column in list_columns:\n",
    "        #df[column] = df[column].fillna(\"\")\n",
    "        # df[column] = df[column].str.strip() #No aplicar\n",
    "            # df[column] = df[column].str.replace('-', ' ')\n",
    "            # df[column] = df[column].str.replace('_', ' ')\n",
    "        df[column] = df[column].str.lower() \n",
    "        df[column] = df[column].str.replace(r'\\s+', ' ', regex=True)\n",
    "        #df[column] = df[column].str.strip() No aplicar\n",
    "        #df[column] = df[column].apply(\n",
    "        #    lambda val: ''.join(\n",
    "        #        (c for c in unicodedata.normalize('NFD', val) if unicodedata.category(c) != 'Mn')))\n",
    "    return df\n",
    "\n",
    "# def clean_text_emprendimiento(df,list_columns):\n",
    "#     for column in list_columns:\n",
    "#         #df[column] = df[column].fillna(\"\")\n",
    "#         df[column] = df[column].str.replace('-', ' ')\n",
    "#         df[column] = df[column].str.replace('_', ' ')\n",
    "#         df[column] = df[column].str.lower()        \n",
    "#         df[column] = df[column].str.replace(' de ', ' ',regex=False)\n",
    "#         df[column] = df[column].str.strip()\n",
    "#         df[column] = df[column].str.replace(r' de$', ' ',regex=True)\n",
    "#         df[column] = df[column].str.replace(r' en$', ' ',regex=True)\n",
    "#         df[column] = df[column].str.replace(r' el$', ' ',regex=True)\n",
    "#         df[column] = df[column].str.replace(' y', ' ', regex=False)\n",
    "#         df[column] = df[column].str.replace(r'\\s+', ' ', regex=True)\n",
    "#         df[column] = df[column].str.strip()\n",
    "#         df[column] = df[column].apply(\n",
    "#             lambda val: ''.join(\n",
    "#                 (c for c in unicodedata.normalize('NFD', val) if unicodedata.category(c) != 'Mn')))\n",
    "#     return df"
   ]
  },
  {
   "cell_type": "code",
   "execution_count": 2,
   "id": "79537aa8-5699-437a-a28c-a26df5c08d7d",
   "metadata": {},
   "outputs": [],
   "source": [
    "df = pd.read_csv(\"solicitudes_credito.csv\", sep=\";\")\n",
    "df = df.drop('Unnamed: 0', axis=1)\n",
    "#df.dropna(inplace = True)"
   ]
  },
  {
   "cell_type": "code",
   "execution_count": 4,
   "id": "6f81ba3c-3871-4554-b3a4-338619b2fdbb",
   "metadata": {},
   "outputs": [],
   "source": [
    "#list_columns = ['sexo',\"tipo_de_emprendimiento\", 'idea_negocio',\"barrio\",\"línea_credito\"]\n",
    "#lis_emp = ['tipo_de_emprendimiento']\n",
    "\n",
    "#df = clean_text(df,list_columns)\n",
    "#df = clean_text_emprendimiento(df,lis_emp)\n",
    "\n",
    "\n",
    "# l_credito_repalces = {'empresarial ed.':'empresarial_ed',\n",
    "#                       'empresarial_ed._':'empresarial_ed',\n",
    "#                       'empresarial-ed.-':'empresarial_ed',\n",
    "#                      'soli diaria':'soli-daria',\n",
    "#                       'solidiaria':'solidaria'}\n",
    "\n",
    "# df['línea_credito'] = df['línea_credito'].replace(l_credito_repalces)\n",
    "\n",
    "# l_barrio_repalces = {'antonio nari¿o':'antonio narino',\n",
    "#                       'bel¿n':'belen'}\n",
    "\n",
    "# df['barrio'] = df['barrio'].replace(l_barrio_repalces)\n"
   ]
  },
  {
   "cell_type": "code",
   "execution_count": 3,
   "id": "4bb856c5-11fa-432b-babb-3293dd617f89",
   "metadata": {},
   "outputs": [],
   "source": [
    "# df.fecha_de_beneficio = pd.to_datetime(\n",
    "#     df.fecha_de_beneficio,\n",
    "#     format='mixed',\n",
    "#     errors=\"raise\"\n",
    "# )\n",
    "\n",
    "df[\"sexo\"] = df[\"sexo\"].str.lower()\n",
    "df[\"tipo_de_emprendimiento\"] = df[\"tipo_de_emprendimiento\"].str.lower()\n",
    "\n",
    "df[\"idea_negocio\"] = df[\"idea_negocio\"].str.lower()\n",
    "df[\"idea_negocio\"] = df[\"idea_negocio\"].str.replace(\"_\",\" \")\n",
    "df[\"idea_negocio\"] = df[\"idea_negocio\"].str.replace(\"-\",\" \")\n",
    "df[\"idea_negocio\"] = df[\"idea_negocio\"].str.strip()\n",
    "\n",
    "df[\"barrio\"] = df[\"barrio\"].str.lower()\n",
    "df[\"barrio\"] = df[\"barrio\"].str.replace(\"_\",\" \")\n",
    "df[\"barrio\"] = df[\"barrio\"].str.replace(\"-\",\" \")\n",
    "\n",
    "df[\"comuna_ciudadano\"] = df[\"comuna_ciudadano\"].replace(\".\",\",\")\n",
    "\n",
    "df[\"fecha_de_beneficio_1\"] = pd.to_datetime(df.fecha_de_beneficio, format = \"%Y/%m/%d\", errors =\"coerce\")\n",
    "df[\"fecha_de_beneficio_2\"] = pd.to_datetime(df.fecha_de_beneficio, format = \"%d/%m/%Y\", errors =\"coerce\")\n",
    "df[\"fecha_de_beneficio\"] = df.apply(lambda x: f\"{x['fecha_de_beneficio_1']} {x['fecha_de_beneficio_2']}\", axis = 1)\n",
    "df[\"fecha_de_beneficio\"] = df[\"fecha_de_beneficio\"].str.replace(\"NaT \",\"\")\n",
    "df[\"fecha_de_beneficio\"] = df[\"fecha_de_beneficio\"].str.replace(\" NaT\",\"\")\n",
    "df[\"fecha_de_beneficio\"]= pd.to_datetime(df[\"fecha_de_beneficio\"])\n",
    "\n",
    "\n",
    "df[\"monto_del_credito\"] = df[\"monto_del_credito\"].str.replace(\"$ \",\"\")\n",
    "df[\"monto_del_credito\"] = df[\"monto_del_credito\"].str.replace(\",\",\"\")\n",
    "df[\"monto_del_credito\"] = df[\"monto_del_credito\"].str.replace(\".00\",\"\")\n",
    "df[\"monto_del_credito\"] = df[\"monto_del_credito\"].str.strip()\n",
    "\n",
    "df[\"línea_credito\"] = df[\"línea_credito\"].str.lower()\n",
    "df[\"línea_credito\"] = df[\"línea_credito\"].str.replace(\"_\",\" \")\n",
    "df[\"línea_credito\"] = df[\"línea_credito\"].str.replace(\"-\",\" \")\n",
    "df[\"línea_credito\"] = df[\"línea_credito\"].str.strip()\n",
    "\n",
    "\n",
    "df= df.drop([\"fecha_de_beneficio_1\", \"fecha_de_beneficio_2\"], axis = 1)\n",
    "\n",
    "df = df.dropna(subset=[\"tipo_de_emprendimiento\", \"barrio\"], how = \"any\")\n",
    "df = df.drop_duplicates()\n",
    "\n",
    "df= df.sort_values(by = [\"sexo\", \"tipo_de_emprendimiento\", \"idea_negocio\", \"barrio\", \"estrato\", \"comuna_ciudadano\", \"fecha_de_beneficio\", \"monto_del_credito\", \"línea_credito\"], ascending=[False, False, False, False, False, False, False, False, False])"
   ]
  },
  {
   "cell_type": "code",
   "execution_count": 15,
   "id": "0243ebc3-5006-4024-81d5-979f89b35bc4",
   "metadata": {},
   "outputs": [],
   "source": [
    "# df['monto_del_credito'] = df['monto_del_credito'].replace(r'\\.00$', '', regex=True)\n",
    "# df['monto_del_credito'] = df['monto_del_credito'].replace('$', '', regex=False)\n",
    "# df['monto_del_credito'] = df['monto_del_credito'].replace(',', '', regex=False)\n",
    "# df['monto_del_credito'] = df['monto_del_credito'].replace('.', '', regex=False)\n",
    "# #df['monto_del_credito'] = df['monto_del_credito'].replace(r'\\D', '', regex=True)\n",
    "# #df = df[df['monto_del_credito'].str.len()>4] #duda de si es necesario\n",
    "# #df['monto_del_credito'] = df['monto_del_credito'].astype(float)"
   ]
  },
  {
   "cell_type": "code",
   "execution_count": 16,
   "id": "e8376a16-c5fe-4727-9e58-b029e4e873dd",
   "metadata": {},
   "outputs": [],
   "source": [
    "# df['estrato'] = df['estrato'].astype(int)\n",
    "# df['comuna_ciudadano'] = df['comuna_ciudadano'].astype(int)"
   ]
  },
  {
   "cell_type": "code",
   "execution_count": 17,
   "id": "d4bc4709-a9c3-4f4d-8c57-c3822a59b634",
   "metadata": {},
   "outputs": [],
   "source": [
    "df.drop_duplicates(inplace=True)\n"
   ]
  },
  {
   "cell_type": "code",
   "execution_count": 4,
   "id": "bf458a92-5dc9-4f59-81f9-81d9880b1e41",
   "metadata": {},
   "outputs": [
    {
     "data": {
      "text/plain": [
       "[6617, 3589]"
      ]
     },
     "execution_count": 4,
     "metadata": {},
     "output_type": "execute_result"
    }
   ],
   "source": [
    "df.sexo.value_counts().to_list()"
   ]
  },
  {
   "cell_type": "code",
   "execution_count": 10,
   "id": "bc5991dd-4c43-49b4-a4e7-dc536558e18e",
   "metadata": {},
   "outputs": [
    {
     "ename": "NameError",
     "evalue": "name 'stop' is not defined",
     "output_type": "error",
     "traceback": [
      "\u001b[1;31m---------------------------------------------------------------------------\u001b[0m",
      "\u001b[1;31mNameError\u001b[0m                                 Traceback (most recent call last)",
      "Cell \u001b[1;32mIn[10], line 1\u001b[0m\n\u001b[1;32m----> 1\u001b[0m \u001b[43mstop\u001b[49m\n",
      "\u001b[1;31mNameError\u001b[0m: name 'stop' is not defined"
     ]
    }
   ],
   "source": [
    "stop"
   ]
  },
  {
   "cell_type": "code",
   "execution_count": null,
   "id": "90eda028-fc14-41a3-9c3c-98789bbc7d2b",
   "metadata": {},
   "outputs": [],
   "source": [
    "df.barrio.value_counts()"
   ]
  },
  {
   "cell_type": "code",
   "execution_count": null,
   "id": "92b761e5-61c3-4dc9-a9ee-858c58969101",
   "metadata": {},
   "outputs": [],
   "source": [
    "df_agrop = df[df.tipo_de_emprendimiento==\"agropecuaria\"].copy()\n",
    "df_agrop[df_agrop.duplicated(['sexo',\"idea_negocio\",\"estrato\",\"comuna_ciudadano\" ,\"línea_credito\"])]"
   ]
  },
  {
   "cell_type": "code",
   "execution_count": null,
   "id": "1d0bae3f-1119-4722-8a65-2e1a6da5e0cb",
   "metadata": {},
   "outputs": [],
   "source": [
    "stop"
   ]
  },
  {
   "cell_type": "code",
   "execution_count": null,
   "id": "14da91d9-910f-4811-b01d-634ad47ee03f",
   "metadata": {},
   "outputs": [],
   "source": [
    "df_agrop[df_agrop.duplicated([\"fecha_de_beneficio\"])].sort_values('column_name')"
   ]
  },
  {
   "cell_type": "code",
   "execution_count": null,
   "id": "e8f96e3e-3d05-4a45-8f04-25735a44a496",
   "metadata": {},
   "outputs": [],
   "source": [
    "df_agrop[df_agrop[\"línea_credito\"]=='']"
   ]
  },
  {
   "cell_type": "code",
   "execution_count": 28,
   "id": "722f925b-a567-4f0c-a0c8-ef347f4b4bd9",
   "metadata": {},
   "outputs": [
    {
     "data": {
      "text/plain": [
       "[6617, 3589]"
      ]
     },
     "execution_count": 28,
     "metadata": {},
     "output_type": "execute_result"
    }
   ],
   "source": [
    "# pregunta 1  #[6639, 3602]\n",
    "df.sexo.value_counts().to_list()# == [6617, 3589]"
   ]
  },
  {
   "cell_type": "code",
   "execution_count": null,
   "id": "57835d5e-48d2-4bd7-82da-60e138669d42",
   "metadata": {
    "scrolled": true
   },
   "outputs": [],
   "source": [
    "# null_by_column = pd.DataFrame(df.isnull().sum(), columns=['Number of missing values'])\n",
    "# null_by_column"
   ]
  },
  {
   "cell_type": "code",
   "execution_count": null,
   "id": "9d3b430b-1891-4235-b87b-e907b233b6dd",
   "metadata": {},
   "outputs": [],
   "source": [
    "6639 - 6617"
   ]
  },
  {
   "cell_type": "code",
   "execution_count": null,
   "id": "64eda5d2-26a9-4f2f-a265-54e12195b172",
   "metadata": {},
   "outputs": [],
   "source": [
    "3691-3589"
   ]
  },
  {
   "cell_type": "code",
   "execution_count": null,
   "id": "d063975f-6bab-4e88-82d6-13e5c052c8fe",
   "metadata": {},
   "outputs": [],
   "source": [
    "stop"
   ]
  },
  {
   "cell_type": "code",
   "execution_count": null,
   "id": "95e78c14-d458-4b8b-9e40-5b12abaa6f1f",
   "metadata": {},
   "outputs": [],
   "source": [
    "stop"
   ]
  },
  {
   "cell_type": "code",
   "execution_count": null,
   "id": "2ad76da1-ef86-4466-91ce-e98db917c1bc",
   "metadata": {},
   "outputs": [],
   "source": [
    "num_duplicated_rows = df.duplicated().sum()\n",
    "num_duplicated_rows"
   ]
  },
  {
   "cell_type": "code",
   "execution_count": null,
   "id": "4e71caa1-bb40-4a28-8bff-7c2f9c0215be",
   "metadata": {},
   "outputs": [],
   "source": [
    "df.head()"
   ]
  },
  {
   "cell_type": "code",
   "execution_count": null,
   "id": "56757afc-c111-49b1-9d72-6f514c519906",
   "metadata": {},
   "outputs": [],
   "source": [
    "df.shape"
   ]
  },
  {
   "cell_type": "code",
   "execution_count": null,
   "id": "10457938-2ece-4a6d-ab19-1d18a6e9dd74",
   "metadata": {},
   "outputs": [],
   "source": [
    "df.columns"
   ]
  },
  {
   "cell_type": "code",
   "execution_count": null,
   "id": "40205ee0-655e-413a-b067-1289117492ba",
   "metadata": {},
   "outputs": [],
   "source": [
    "def clean_text(df,list_columns):\n",
    "    for column in list_columns:\n",
    "        df[column] = df[column].fillna(\"\")\n",
    "        df[column] = df[column].str.lower()\n",
    "        df[column] = df[column].str.replace(r'\\s+', ' ', regex=True)\n",
    "        df[column] = df[column].str.strip()\n",
    "        df[column] = df[column].apply(\n",
    "            lambda val: ''.join(\n",
    "                (c for c in unicodedata.normalize('NFD', val) if unicodedata.category(c) != 'Mn')))\n",
    "    return df"
   ]
  },
  {
   "cell_type": "code",
   "execution_count": null,
   "id": "d989fe42-ab43-44e8-9706-02d21cbc218e",
   "metadata": {},
   "outputs": [],
   "source": [
    "list_columns = ['sexo', 'tipo_de_emprendimiento', 'idea_negocio', 'barrio',\"línea_credito\"]\n",
    "df = clean_text(df,list_columns)\n",
    "\n",
    "l_credito_repalces = {'empresarial ed.':'empresarial_ed',\n",
    "                      'empresarial_ed._':'empresarial_ed',\n",
    "                      'empresarial-ed.-':'empresarial_ed'}\n",
    "\n",
    "df['línea_credito'] = df['línea_credito'].replace(l_credito_repalces)\n",
    "\n",
    "df.head()"
   ]
  },
  {
   "cell_type": "code",
   "execution_count": null,
   "id": "1314c728-b64b-4eee-8d1b-ed29589bf767",
   "metadata": {},
   "outputs": [],
   "source": [
    "df.duplicated().sum()"
   ]
  },
  {
   "cell_type": "code",
   "execution_count": null,
   "id": "0ed0239d-945c-4e9e-ace6-713fac825981",
   "metadata": {},
   "outputs": [],
   "source": [
    "df.tipo_de_emprendimiento.value_counts().to_list()"
   ]
  },
  {
   "cell_type": "code",
   "execution_count": null,
   "id": "27f7a540-d03f-439b-ba81-0d06e5576977",
   "metadata": {},
   "outputs": [],
   "source": []
  },
  {
   "cell_type": "code",
   "execution_count": null,
   "id": "da59b085-9e7b-4e59-a6cd-2bf959d03916",
   "metadata": {},
   "outputs": [],
   "source": [
    "emprendimiento_vacio = df[df.tipo_de_emprendimiento==\"\"].shape[0]\n",
    "print(\"Cantidad de datos con tipo emprendimiento vacio = \",emprendimiento_vacio)"
   ]
  },
  {
   "cell_type": "code",
   "execution_count": null,
   "id": "8bea89b4-73dd-4c46-bf54-73a43f338782",
   "metadata": {},
   "outputs": [],
   "source": [
    "idea_negocio_vacio = df[df.idea_negocio==\"\"].shape[0]\n",
    "print(\"Cantidad de datos con tipo idea_negocio vacio = \",idea_negocio_vacio)"
   ]
  },
  {
   "cell_type": "code",
   "execution_count": null,
   "id": "c64b9ac0-10a0-43f8-9b5d-3ad539c08626",
   "metadata": {},
   "outputs": [],
   "source": [
    "df.línea_credito.value_counts()"
   ]
  },
  {
   "cell_type": "code",
   "execution_count": null,
   "id": "a36effd3-1e38-46a3-befe-738eda98b0fb",
   "metadata": {},
   "outputs": [],
   "source": [
    "df[df['línea_credito']=='fomento agropecuario']"
   ]
  },
  {
   "cell_type": "code",
   "execution_count": null,
   "id": "aeb096a3-5d60-47f3-9183-87755e49f229",
   "metadata": {},
   "outputs": [],
   "source": [
    "l_credito_repalces = {'empresarial ed.':'empresarial_ed',\n",
    "                      'empresarial_ed._':'empresarial_ed',\n",
    "                      'empresarial-ed.-':'empresarial_ed'}\n",
    "df['línea_credito'] = df['línea_credito'].replace(replace_values)"
   ]
  },
  {
   "cell_type": "code",
   "execution_count": null,
   "id": "38f525f6-eccc-4766-9104-c3bfdda55488",
   "metadata": {},
   "outputs": [],
   "source": [
    "df.fecha_de_beneficio = pd.to_datetime(\n",
    "    df.fecha_de_beneficio,\n",
    "    format='mixed',\n",
    "    errors=\"raise\"\n",
    ")"
   ]
  },
  {
   "cell_type": "code",
   "execution_count": null,
   "id": "97a3340e-cbbe-4cf7-b722-dfb80ecb363b",
   "metadata": {},
   "outputs": [],
   "source": [
    "df.head()#[df['línea_credito']=='fomento agropecuario']"
   ]
  },
  {
   "cell_type": "code",
   "execution_count": null,
   "id": "1f30c4d5-6c4b-4c72-8cf3-59af58376dc1",
   "metadata": {},
   "outputs": [],
   "source": [
    "df['monto_del_credito'] = df['monto_del_credito'].replace(r'\\.00', '', regex=True)\n",
    "df['monto_del_credito'] = df['monto_del_credito'].replace(r'\\D', '', regex=True)\n",
    "# df['monto_del_credito'] = df['monto_del_credito'].replace(r'$', '')\n",
    "# df['monto_del_credito'] = df['monto_del_credito'].str.strip()"
   ]
  },
  {
   "cell_type": "code",
   "execution_count": null,
   "id": "ae2efdc3-ef8c-4cdf-9020-5aee85b96c80",
   "metadata": {},
   "outputs": [],
   "source": [
    "330-283"
   ]
  },
  {
   "cell_type": "code",
   "execution_count": null,
   "id": "d5799f64-8f91-43c5-811f-71c63c138014",
   "metadata": {},
   "outputs": [],
   "source": [
    "error = [\n",
    "        990,\n",
    "        483,\n",
    "        423,\n",
    "        383,\n",
    "        376,\n",
    "        372,\n",
    "        361,\n",
    "        348,\n",
    "        328,\n",
    "        308,\n",
    "        270,\n",
    "        255,\n",
    "        255,\n",
    "        247,\n",
    "        234,\n",
    "        232,\n",
    "        231,\n",
    "        202,\n",
    "        174,\n",
    "        170,\n",
    "        169,\n",
    "        124,\n",
    "        117,\n",
    "        115,\n",
    "        114,\n",
    "        90,\n",
    "        89,\n",
    "        89,\n",
    "        86,\n",
    "        85,\n",
    "        78,\n",
    "        72,\n",
    "        70,\n",
    "        67,\n",
    "        65,\n",
    "        59,\n",
    "        55,\n",
    "        52,\n",
    "        50,\n",
    "        49,\n",
    "        48,\n",
    "        48,\n",
    "        48,\n",
    "        47,\n",
    "        45,\n",
    "        44,\n",
    "        43,\n",
    "        43,\n",
    "        43,\n",
    "        40,\n",
    "        38,\n",
    "        37,\n",
    "        36,\n",
    "        36,\n",
    "        34,\n",
    "        34,\n",
    "        33,\n",
    "        33,\n",
    "        32,\n",
    "        30,\n",
    "        27,\n",
    "        27,\n",
    "        27,\n",
    "        26,\n",
    "        26,\n",
    "        25,\n",
    "        25,\n",
    "        24,\n",
    "        24,\n",
    "        24,\n",
    "        24,\n",
    "        23,\n",
    "        21,\n",
    "        21,\n",
    "        21,\n",
    "        20,\n",
    "        20,\n",
    "        20,\n",
    "        20,\n",
    "        17,\n",
    "        17,\n",
    "        17,\n",
    "        16,\n",
    "        14,\n",
    "        14,\n",
    "        14,\n",
    "        14,\n",
    "        13,\n",
    "        13,\n",
    "        12,\n",
    "        11,\n",
    "        11,\n",
    "        11,\n",
    "        11,\n",
    "        10,\n",
    "        10,\n",
    "        10,\n",
    "        9,\n",
    "        9,\n",
    "        9,\n",
    "        9,\n",
    "        8,\n",
    "        8,\n",
    "        8,\n",
    "        8,\n",
    "        8,\n",
    "        8,\n",
    "        7,\n",
    "        7,\n",
    "        7,\n",
    "        7,\n",
    "        7,\n",
    "        7,\n",
    "        7,\n",
    "        6,\n",
    "        6,\n",
    "        6,\n",
    "        6,\n",
    "        6,\n",
    "        6,\n",
    "        6,\n",
    "        6,\n",
    "        6,\n",
    "        6,\n",
    "        6,\n",
    "        6,\n",
    "        5,\n",
    "        5,\n",
    "        5,\n",
    "        5,\n",
    "        5,\n",
    "        5,\n",
    "        4,\n",
    "        4,\n",
    "        4,\n",
    "        4,\n",
    "        4,\n",
    "        3,\n",
    "        3,\n",
    "        3,\n",
    "        3,\n",
    "        3,\n",
    "        3,\n",
    "        3,\n",
    "        3,\n",
    "        3,\n",
    "        3,\n",
    "        3,\n",
    "        3,\n",
    "        3,\n",
    "        3,\n",
    "        2,\n",
    "        2,\n",
    "        2,\n",
    "        2,\n",
    "        2,\n",
    "        2,\n",
    "        2,\n",
    "        2,\n",
    "        2,\n",
    "        2,\n",
    "        2,\n",
    "        2,\n",
    "        2,\n",
    "        2,\n",
    "        2,\n",
    "        2,\n",
    "        2,\n",
    "        2,\n",
    "        2,\n",
    "        2,\n",
    "        2,\n",
    "        2,\n",
    "        2,\n",
    "        2,\n",
    "        2,\n",
    "        2,\n",
    "        1,\n",
    "        1,\n",
    "        1,\n",
    "        1,\n",
    "        1,\n",
    "        1,\n",
    "        1,\n",
    "        1,\n",
    "        1,\n",
    "        1,\n",
    "        1,\n",
    "        1,\n",
    "        1,\n",
    "        1,\n",
    "        1,\n",
    "        1,\n",
    "        1,\n",
    "        1,\n",
    "        1,\n",
    "        1,\n",
    "        1,\n",
    "        1,\n",
    "        1,\n",
    "        1,\n",
    "        1,\n",
    "        1,\n",
    "        1,\n",
    "        1,\n",
    "        1,\n",
    "        1,\n",
    "        1,\n",
    "        1,\n",
    "        1,\n",
    "        1,\n",
    "        1,\n",
    "        1,\n",
    "        1,\n",
    "        1,\n",
    "        1,\n",
    "        1,\n",
    "        1,\n",
    "        1,\n",
    "        1,\n",
    "        1,\n",
    "        1,\n",
    "        1,\n",
    "        1,\n",
    "        1,\n",
    "    ]\n",
    "len(error)"
   ]
  },
  {
   "cell_type": "code",
   "execution_count": null,
   "id": "f12d10db-ddf4-4083-8554-a2b662c5cbca",
   "metadata": {},
   "outputs": [],
   "source": []
  }
 ],
 "metadata": {
  "kernelspec": {
   "display_name": "Python 3 (ipykernel)",
   "language": "python",
   "name": "python3"
  },
  "language_info": {
   "codemirror_mode": {
    "name": "ipython",
    "version": 3
   },
   "file_extension": ".py",
   "mimetype": "text/x-python",
   "name": "python",
   "nbconvert_exporter": "python",
   "pygments_lexer": "ipython3",
   "version": "3.12.2"
  }
 },
 "nbformat": 4,
 "nbformat_minor": 5
}
